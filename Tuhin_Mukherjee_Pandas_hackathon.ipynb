{
  "nbformat": 4,
  "nbformat_minor": 0,
  "metadata": {
    "colab": {
      "name": "Tuhin Mukherjee - Pandas-hackathon.ipynb",
      "provenance": []
    },
    "kernelspec": {
      "display_name": "Python 3",
      "language": "python",
      "name": "python3"
    },
    "language_info": {
      "codemirror_mode": {
        "name": "ipython",
        "version": 3
      },
      "file_extension": ".py",
      "mimetype": "text/x-python",
      "name": "python",
      "nbconvert_exporter": "python",
      "pygments_lexer": "ipython3",
      "version": "3.7.4"
    }
  },
  "cells": [
    {
      "cell_type": "markdown",
      "metadata": {
        "colab_type": "text",
        "id": "MPo4XkxnGVL8"
      },
      "source": [
        "# Improve CampusX\n",
        "\n",
        "## Instructions\n",
        "\n",
        "1. You have to submit your solutions before **6:00pm tomorrow**\n",
        "2. The problems that I have given(**except the 1st one**) are problems with which we are also dealing with. So, in a way we are asking for your help through this hackathon.\n",
        "3. To be honest solving even a single question is a big deal in the given time duration. So, please don't get **frustrated** if you are not able to solve even one problem. \n",
        "4. A request - **don't quit**. Infact **never quit**.\n",
        "5. Marking Scheme for this hackathon is as follows\n",
        "**Total Marks=200**\n",
        "but, while adding this to your dashboard, your total marks will be divided by a **factor of 10**.\n",
        "So, let's say you scored 90 in the hackathon, you dashboard score would be 9\n",
        "6. Top 3 performers will get a **prize**, when we will meet next.Promise:)\n"
      ]
    },
    {
      "cell_type": "code",
      "metadata": {
        "id": "goXMeRnn3g_i",
        "colab_type": "code",
        "colab": {}
      },
      "source": [
        "import pandas as pd"
      ],
      "execution_count": 0,
      "outputs": []
    },
    {
      "cell_type": "code",
      "metadata": {
        "id": "drrQNYx_3g_n",
        "colab_type": "code",
        "outputId": "32938a2c-b6ef-4c15-9b5f-4ee01da0da53",
        "colab": {}
      },
      "source": [
        "evaluation=pd.read_csv('evaluation.csv')\n",
        "course=pd.read_csv('course.csv')\n",
        "module=pd.read_csv(\"module.csv\")\n",
        "content=pd.read_csv('content.csv')\n",
        "gyan=pd.read_csv(\"gyan.csv\")\n",
        "myday=pd.read_csv(\"myday.csv\")\n",
        "link_preview_details=pd.read_csv(\"link_preview_details.csv\")\n",
        "tasks=pd.read_csv('tasks.csv',encoding='latin-1', error_bad_lines=False)\n",
        "url_task=pd.read_csv(\"url_task.csv\")\n",
        "batch=pd.read_csv(\"batch.csv\")\n",
        "batch_task=pd.read_csv(\"batch_task.csv\")\n",
        "users=pd.read_csv(\"users.csv\")"
      ],
      "execution_count": 0,
      "outputs": [
        {
          "output_type": "stream",
          "text": [
            "b'Skipping line 16: expected 7 fields, saw 10\\n'\n"
          ],
          "name": "stderr"
        }
      ]
    },
    {
      "cell_type": "markdown",
      "metadata": {
        "colab_type": "text",
        "id": "J0fvZDeaGdu9"
      },
      "source": [
        "**Problem 1** : Write a python function which will receive 3 input i.e. batch name, start date and end date and returns the leaderboard(in that date window) of that particular batch with the following pieces of info - Name, Marks(till now)\n",
        "\n",
        "Note: If no date range is provided, show the leaderboard for the entire duration of the course\n",
        "\n",
        "**Marks -10**"
      ]
    },
    {
      "cell_type": "code",
      "metadata": {
        "colab_type": "code",
        "id": "M5mpxSKkG6Lt",
        "colab": {}
      },
      "source": [
        "# Write your code here"
      ],
      "execution_count": 0,
      "outputs": []
    },
    {
      "cell_type": "code",
      "metadata": {
        "id": "vlsmDJ_j3g_z",
        "colab_type": "code",
        "colab": {}
      },
      "source": [
        "def leaderboard(batch_name,start_date,end_date):\n",
        "    if not start_date:\n",
        "        start_date = evaluation.head(1)['evaluation_date'].to_list()[0]\n",
        "    if not end_date:\n",
        "        end_date = evaluation.tail(1)['evaluation_date'].to_list()[0]\n",
        "    batch_id=batch[batch['batch_name']==batch_name]['batch_id']\n",
        "    task_id=batch_task[batch_task['batch_id'].isin(batch_id)]['task_id']\n",
        "    user_id=users[users['batch_id'].isin(batch_id)]['user_id']\n",
        "    names=users[users['batch_id'].isin(batch_id)][['fname','user_id']]\n",
        "    myday_score = myday[myday['user_id'].isin(user_id)][['user_id','entry']].groupby('user_id').count()\n",
        "    gyan_score = gyan[gyan['user_id'].isin(user_id)][['user_id','link']].groupby('user_id').count()\n",
        "    score = evaluation[(evaluation['user_id'].isin(user_id))&(evaluation['task_id'].isin(task_id))&(evaluation['evaluation_date']>=start_date)&(evaluation['evaluation_date']<=end_date)]\n",
        "    score = score[['user_id','score']].groupby('user_id').sum()\n",
        "    total = myday_score.merge(gyan_score,on='user_id')\n",
        "    total = total.merge(score,on='user_id')\n",
        "    total['total']=total['entry']+total['link']+total['score']\n",
        "    total.drop(columns=['entry','link','score'],inplace=True)\n",
        "    final = names.merge(total,on='user_id')\n",
        "    final.drop(columns='user_id',inplace=True)\n",
        "    final.sort_values('total',ascending=False,inplace=True)\n",
        "    final.reset_index(inplace=True)\n",
        "    final.drop(columns='index',inplace=True)\n",
        "    final.rename(columns={'fname':'Name','total':'Score'},inplace=True)\n",
        "    return final\n"
      ],
      "execution_count": 0,
      "outputs": []
    },
    {
      "cell_type": "code",
      "metadata": {
        "id": "f0Ucs_kM3g_3",
        "colab_type": "code",
        "outputId": "027d491f-ae71-4707-c812-6f9a4a852494",
        "colab": {}
      },
      "source": [
        "name = input('Enter a batch name : ')\n",
        "sdate = input(f'Start Date (yyyy-mm-dd) : ')\n",
        "edate = input(f'End Date (yyyy-mm-dd) : ')\n",
        "leaderboard(batch_name=name,start_date=sdate,end_date=edate)"
      ],
      "execution_count": 0,
      "outputs": [
        {
          "output_type": "stream",
          "text": [
            "Enter a batch name : Machine Learning Kolkata 1\n",
            "Start Date (yyyy-mm-dd) : \n",
            "End Date (yyyy-mm-dd) : \n"
          ],
          "name": "stdout"
        },
        {
          "output_type": "execute_result",
          "data": {
            "text/html": [
              "<div>\n",
              "<style scoped>\n",
              "    .dataframe tbody tr th:only-of-type {\n",
              "        vertical-align: middle;\n",
              "    }\n",
              "\n",
              "    .dataframe tbody tr th {\n",
              "        vertical-align: top;\n",
              "    }\n",
              "\n",
              "    .dataframe thead th {\n",
              "        text-align: right;\n",
              "    }\n",
              "</style>\n",
              "<table border=\"1\" class=\"dataframe\">\n",
              "  <thead>\n",
              "    <tr style=\"text-align: right;\">\n",
              "      <th></th>\n",
              "      <th>Name</th>\n",
              "      <th>Score</th>\n",
              "    </tr>\n",
              "  </thead>\n",
              "  <tbody>\n",
              "    <tr>\n",
              "      <td>0</td>\n",
              "      <td>Dipam</td>\n",
              "      <td>154.0</td>\n",
              "    </tr>\n",
              "    <tr>\n",
              "      <td>1</td>\n",
              "      <td>Shakib</td>\n",
              "      <td>154.0</td>\n",
              "    </tr>\n",
              "    <tr>\n",
              "      <td>2</td>\n",
              "      <td>Kunal</td>\n",
              "      <td>148.5</td>\n",
              "    </tr>\n",
              "    <tr>\n",
              "      <td>3</td>\n",
              "      <td>Ujjainee</td>\n",
              "      <td>144.0</td>\n",
              "    </tr>\n",
              "    <tr>\n",
              "      <td>4</td>\n",
              "      <td>Purbita</td>\n",
              "      <td>140.0</td>\n",
              "    </tr>\n",
              "    <tr>\n",
              "      <td>5</td>\n",
              "      <td>Vishal</td>\n",
              "      <td>133.5</td>\n",
              "    </tr>\n",
              "    <tr>\n",
              "      <td>6</td>\n",
              "      <td>Surabhi</td>\n",
              "      <td>129.0</td>\n",
              "    </tr>\n",
              "    <tr>\n",
              "      <td>7</td>\n",
              "      <td>Chandrima</td>\n",
              "      <td>127.0</td>\n",
              "    </tr>\n",
              "    <tr>\n",
              "      <td>8</td>\n",
              "      <td>Bhavna</td>\n",
              "      <td>118.0</td>\n",
              "    </tr>\n",
              "    <tr>\n",
              "      <td>9</td>\n",
              "      <td>Sushree</td>\n",
              "      <td>73.0</td>\n",
              "    </tr>\n",
              "    <tr>\n",
              "      <td>10</td>\n",
              "      <td>Sharika</td>\n",
              "      <td>55.0</td>\n",
              "    </tr>\n",
              "    <tr>\n",
              "      <td>11</td>\n",
              "      <td>Durga</td>\n",
              "      <td>44.5</td>\n",
              "    </tr>\n",
              "    <tr>\n",
              "      <td>12</td>\n",
              "      <td>Roumyak</td>\n",
              "      <td>40.0</td>\n",
              "    </tr>\n",
              "    <tr>\n",
              "      <td>13</td>\n",
              "      <td>Kaushal</td>\n",
              "      <td>22.0</td>\n",
              "    </tr>\n",
              "  </tbody>\n",
              "</table>\n",
              "</div>"
            ],
            "text/plain": [
              "         Name  Score\n",
              "0       Dipam  154.0\n",
              "1      Shakib  154.0\n",
              "2       Kunal  148.5\n",
              "3    Ujjainee  144.0\n",
              "4     Purbita  140.0\n",
              "5      Vishal  133.5\n",
              "6     Surabhi  129.0\n",
              "7   Chandrima  127.0\n",
              "8      Bhavna  118.0\n",
              "9     Sushree   73.0\n",
              "10    Sharika   55.0\n",
              "11      Durga   44.5\n",
              "12    Roumyak   40.0\n",
              "13    Kaushal   22.0"
            ]
          },
          "metadata": {
            "tags": []
          },
          "execution_count": 6
        }
      ]
    },
    {
      "cell_type": "code",
      "metadata": {
        "id": "hxS9dPgZ3g_-",
        "colab_type": "code",
        "colab": {}
      },
      "source": [
        ""
      ],
      "execution_count": 0,
      "outputs": []
    },
    {
      "cell_type": "markdown",
      "metadata": {
        "colab_type": "text",
        "id": "LRkneACyI35s"
      },
      "source": [
        "**Problem 2**: Write a python function that receives 1 input, batch_name and returns the list of top 10 students who require maximum attention from the teacher.\n",
        "\n",
        "**Note**: I know this is kind of abstract, but truly we are facing this problem. Try to come up with a solution/algorithm. \n",
        "\n",
        "**Tip** : Don't just think in terms of marks, also think about things like late submissions, number of submissions, myday etc\n",
        "\n",
        "**Tricky scenario**: Aisa bhi ho sakta hai koi student bas shuru me acha perform nai kar raha tha, but ab kar raha hai. So consider dates also.\n",
        "\n",
        "**Marks : 50**"
      ]
    },
    {
      "cell_type": "code",
      "metadata": {
        "colab_type": "code",
        "id": "-A_ZLtX8HeQ2",
        "colab": {}
      },
      "source": [
        "# Write your code here"
      ],
      "execution_count": 0,
      "outputs": []
    },
    {
      "cell_type": "code",
      "metadata": {
        "id": "k-bg2oUD3hAG",
        "colab_type": "code",
        "colab": {}
      },
      "source": [
        ""
      ],
      "execution_count": 0,
      "outputs": []
    },
    {
      "cell_type": "code",
      "metadata": {
        "id": "UXcq-lT_3hAJ",
        "colab_type": "code",
        "colab": {}
      },
      "source": [
        ""
      ],
      "execution_count": 0,
      "outputs": []
    },
    {
      "cell_type": "code",
      "metadata": {
        "id": "0ePnrlMm3hAP",
        "colab_type": "code",
        "colab": {}
      },
      "source": [
        ""
      ],
      "execution_count": 0,
      "outputs": []
    },
    {
      "cell_type": "markdown",
      "metadata": {
        "colab_type": "text",
        "id": "NjDwO7mTKwSj"
      },
      "source": [
        "**Problem 3**: Write a python function that will take batch name and a date range as input and outputs the most consistent student in that given daterange and batch\n",
        "\n",
        "**Note**: Come up with your definition of consistency\n",
        "\n",
        "**Marks - 20** "
      ]
    },
    {
      "cell_type": "code",
      "metadata": {
        "colab_type": "code",
        "id": "pM3qakcfMQEn",
        "colab": {}
      },
      "source": [
        "# Write your code here"
      ],
      "execution_count": 0,
      "outputs": []
    },
    {
      "cell_type": "code",
      "metadata": {
        "id": "IH6PKXNe3hAW",
        "colab_type": "code",
        "colab": {}
      },
      "source": [
        "def consis(batch_name,start_date,end_date):\n",
        "    if not start_date:\n",
        "        start_date = evaluation.head(1)['evaluation_date'].to_list()[0]\n",
        "    if not end_date:\n",
        "        end_date = evaluation.tail(1)['evaluation_date'].to_list()[0]\n",
        "    batch_id=batch[batch['batch_name']==batch_name]['batch_id']\n",
        "    task_id=batch_task[batch_task['batch_id'].isin(batch_id)]['task_id']\n",
        "    user_id=users[users['batch_id'].isin(batch_id)]['user_id']\n",
        "    name=users[users['batch_id'].isin(batch_id)][['fname','user_id']]\n",
        "    m=myday[myday['user_id'].isin(user_id)][['user_id','entry']]\n",
        "    m1=m.groupby('user_id')\n",
        "    myday_count=m1.count()\n",
        "    myday_count\n",
        "    g=gyan[gyan['user_id'].isin(user_id)][['user_id','link']]\n",
        "    g1=g.groupby('user_id')\n",
        "    gyan_count=g1.count()\n",
        "    gyan_count\n",
        "    df=gyan_count.merge(myday_count,on='user_id')\n",
        "    df.rename(columns = {'link':'gyan_count','entry':'myday_count'}, inplace = True)\n",
        "    \n",
        "    mask=evaluation[(evaluation['task_id'].isin(task_id)) & (evaluation['user_id'].isin(user_id))&(evaluation['evaluation_date']>=start_date)&(evaluation['evaluation_date']<=end_date)]\n",
        "    m=mask.groupby('user_id')\n",
        "    task_count=m.count()\n",
        "    task_count.rename(columns = {'task_id':'task_done'}, inplace = True)\n",
        "    task_count.drop(columns=['e_id','evaluation_date','late','score','winner'],inplace=True)\n",
        "    \n",
        "    mask1=evaluation[(evaluation['task_id'].isin(task_id)) & (evaluation['user_id'].isin(user_id))&(evaluation['evaluation_date']>=start_date)&(evaluation['evaluation_date']<=end_date)]\n",
        "    late_sub=mask1[mask1['late']==1]\n",
        "    on_time=mask1[mask1['late']==0]\n",
        "    LS=late_sub.groupby('user_id').count()\n",
        "    OT=on_time.groupby('user_id').count()\n",
        "    LS.rename(columns={'late':'Late_sub'},inplace=True)\n",
        "    OT.rename(columns={'late':'on_time'},inplace=True)\n",
        "    OT.drop(columns=['e_id','task_id','evaluation_date','score','winner'],inplace=True)\n",
        "    LS.drop(columns=['e_id','task_id','evaluation_date','score','winner'],inplace=True)\n",
        "    data=pd.DataFrame(columns=['consis_gyan_score','consis_myday_score','consis_score','LS_score','OT_score','Total'])\n",
        "    data['consis_score']=5*task_count['task_done']\n",
        "    data['consis_myday_score']=1*df['myday_count']\n",
        "    data['consis_gyan_score']=1*df['gyan_count']\n",
        "    data['OT_score']=1*OT['on_time']\n",
        "    data['LS_score']=(-4)*LS['Late_sub']\n",
        "    data.fillna(0,inplace=True)\n",
        "    data['Total']=data['consis_gyan_score']+data['consis_myday_score']+data['consis_score']+data['LS_score']+data['OT_score']\n",
        "    data.drop(columns=['consis_gyan_score','consis_myday_score','consis_score','LS_score','OT_score'],inplace=True)\n",
        "    result=data.merge(name,on='user_id')\n",
        "    F_result=result.sort_values('Total',ascending=False)\n",
        "    FF=F_result.reset_index()\n",
        "    FF.drop(columns=['index','user_id'],inplace=True)\n",
        "    return FF.head(1)\n",
        "    "
      ],
      "execution_count": 0,
      "outputs": []
    },
    {
      "cell_type": "code",
      "metadata": {
        "id": "88NIYqnw3hAY",
        "colab_type": "code",
        "outputId": "ec46ad56-0918-4d5e-83aa-2892424054d7",
        "colab": {}
      },
      "source": [
        "name = input('Enter a batch name : ')\n",
        "sdate = input(f'Start Date (yyyy-mm-dd) : ')\n",
        "edate = input(f'End Date (yyyy-mm-dd) : ')\n",
        "consis(batch_name=name,start_date=sdate,end_date=edate)"
      ],
      "execution_count": 0,
      "outputs": [
        {
          "output_type": "stream",
          "text": [
            "Enter a batch name : Machine Learning Kolkata 1\n",
            "Start Date (yyyy-mm-dd) : \n",
            "End Date (yyyy-mm-dd) : \n"
          ],
          "name": "stdout"
        },
        {
          "output_type": "execute_result",
          "data": {
            "text/html": [
              "<div>\n",
              "<style scoped>\n",
              "    .dataframe tbody tr th:only-of-type {\n",
              "        vertical-align: middle;\n",
              "    }\n",
              "\n",
              "    .dataframe tbody tr th {\n",
              "        vertical-align: top;\n",
              "    }\n",
              "\n",
              "    .dataframe thead th {\n",
              "        text-align: right;\n",
              "    }\n",
              "</style>\n",
              "<table border=\"1\" class=\"dataframe\">\n",
              "  <thead>\n",
              "    <tr style=\"text-align: right;\">\n",
              "      <th></th>\n",
              "      <th>Total</th>\n",
              "      <th>fname</th>\n",
              "    </tr>\n",
              "  </thead>\n",
              "  <tbody>\n",
              "    <tr>\n",
              "      <td>0</td>\n",
              "      <td>89.0</td>\n",
              "      <td>Dipam</td>\n",
              "    </tr>\n",
              "  </tbody>\n",
              "</table>\n",
              "</div>"
            ],
            "text/plain": [
              "   Total  fname\n",
              "0   89.0  Dipam"
            ]
          },
          "metadata": {
            "tags": []
          },
          "execution_count": 14
        }
      ]
    },
    {
      "cell_type": "code",
      "metadata": {
        "id": "CI2AI4VZ3hAd",
        "colab_type": "code",
        "colab": {}
      },
      "source": [
        ""
      ],
      "execution_count": 0,
      "outputs": []
    },
    {
      "cell_type": "markdown",
      "metadata": {
        "colab_type": "text",
        "id": "isIEYJsfME2W"
      },
      "source": [
        "**Problem 4**: Find the best student across batches\n",
        "\n",
        "**Marks - 20**"
      ]
    },
    {
      "cell_type": "code",
      "metadata": {
        "colab_type": "code",
        "id": "fScqy8GkKtzS",
        "colab": {}
      },
      "source": [
        "# Write your code here"
      ],
      "execution_count": 0,
      "outputs": []
    },
    {
      "cell_type": "code",
      "metadata": {
        "id": "HCuwAkB83hAl",
        "colab_type": "code",
        "colab": {}
      },
      "source": [
        "def leaderboard(batch_name,start_date,end_date):\n",
        "    if not start_date:\n",
        "        start_date = evaluation.head(1)['evaluation_date'].to_list()[0]\n",
        "    if not end_date:\n",
        "        end_date = evaluation.tail(1)['evaluation_date'].to_list()[0]\n",
        "    batch_id=batch[batch['batch_name']==batch_name]['batch_id']\n",
        "    task_id=batch_task[batch_task['batch_id'].isin(batch_id)]['task_id']\n",
        "    user_id=users[users['batch_id'].isin(batch_id)]['user_id']\n",
        "    names=users[users['batch_id'].isin(batch_id)][['fname','user_id']]\n",
        "    myday_score = myday[myday['user_id'].isin(user_id)][['user_id','entry']].groupby('user_id').count()\n",
        "    gyan_score = gyan[gyan['user_id'].isin(user_id)][['user_id','link']].groupby('user_id').count()\n",
        "    score = evaluation[(evaluation['user_id'].isin(user_id))&(evaluation['task_id'].isin(task_id))&(evaluation['evaluation_date']>=start_date)&(evaluation['evaluation_date']<=end_date)]\n",
        "    score = score[['user_id','score']].groupby('user_id').sum()\n",
        "    total = myday_score.merge(gyan_score,on='user_id')\n",
        "    total = total.merge(score,on='user_id')\n",
        "    total['total']=total['entry']+total['link']+total['score']\n",
        "    total.drop(columns=['entry','link','score'],inplace=True)\n",
        "    final = names.merge(total,on='user_id')\n",
        "    final.drop(columns='user_id',inplace=True)\n",
        "    final.sort_values('total',ascending=False,inplace=True)\n",
        "    final.reset_index(inplace=True)\n",
        "    final.drop(columns='index',inplace=True)\n",
        "    final.rename(columns={'fname':'Name','total':'Score'},inplace=True)\n",
        "    return final\n"
      ],
      "execution_count": 0,
      "outputs": []
    },
    {
      "cell_type": "code",
      "metadata": {
        "id": "rFjBJjBk3hAn",
        "colab_type": "code",
        "colab": {}
      },
      "source": [
        "def best():\n",
        "    final=pd.DataFrame()\n",
        "    for i in batch['batch_name']:\n",
        "        sd = evaluation.head(1)['evaluation_date'].to_list()[0]\n",
        "        ed = evaluation.tail(1)['evaluation_date'].to_list()[0]\n",
        "        final = final.append(leaderboard(i,sd,ed))\n",
        "    final.sort_values('Score',ascending=False,inplace=True)\n",
        "    print(final.head(1))"
      ],
      "execution_count": 0,
      "outputs": []
    },
    {
      "cell_type": "code",
      "metadata": {
        "id": "7_ILM46j3hAq",
        "colab_type": "code",
        "outputId": "9cec2ca4-02b5-4ac5-d8c3-45c9b132e942",
        "colab": {}
      },
      "source": [
        "best()"
      ],
      "execution_count": 0,
      "outputs": [
        {
          "output_type": "stream",
          "text": [
            "     Name  Score\n",
            "0  Ritwik  196.5\n"
          ],
          "name": "stdout"
        }
      ]
    },
    {
      "cell_type": "markdown",
      "metadata": {
        "colab_type": "text",
        "id": "i_nZV2O0MfpA"
      },
      "source": [
        "**Problem 5** : Write a function/piece of analysis that can compare the performance of 2 batches on the whole\n",
        "\n",
        "**Note**: Again Abstract\n",
        "\n",
        "**Note 2**: Will be judging you a lot on the basis of this.\n",
        "\n",
        "**Note 3**: You can get an instant internship under us, if can apply the right thought process to this problem\n",
        "\n",
        "**Marks - 50**"
      ]
    },
    {
      "cell_type": "code",
      "metadata": {
        "colab_type": "code",
        "id": "lwJ1FkVqNCK1",
        "colab": {}
      },
      "source": [
        "# Write your code here"
      ],
      "execution_count": 0,
      "outputs": []
    },
    {
      "cell_type": "code",
      "metadata": {
        "id": "pQC_bbiu3hAz",
        "colab_type": "code",
        "colab": {}
      },
      "source": [
        ""
      ],
      "execution_count": 0,
      "outputs": []
    },
    {
      "cell_type": "code",
      "metadata": {
        "id": "i3vJvlIN3hA1",
        "colab_type": "code",
        "colab": {}
      },
      "source": [
        ""
      ],
      "execution_count": 0,
      "outputs": []
    },
    {
      "cell_type": "markdown",
      "metadata": {
        "colab_type": "text",
        "id": "YBW2zMk6NuA4"
      },
      "source": [
        "**Problem 6** : Surprise us\n",
        "\n",
        "**Description**: Find something(point/points of analysis) that might surprise us\n",
        "\n",
        "**Marks - 50**"
      ]
    },
    {
      "cell_type": "code",
      "metadata": {
        "colab_type": "code",
        "id": "Nq3QoJeYOCEo",
        "colab": {}
      },
      "source": [
        ""
      ],
      "execution_count": 0,
      "outputs": []
    },
    {
      "cell_type": "code",
      "metadata": {
        "id": "3Hc3p8lN3hA7",
        "colab_type": "code",
        "colab": {}
      },
      "source": [
        ""
      ],
      "execution_count": 0,
      "outputs": []
    },
    {
      "cell_type": "code",
      "metadata": {
        "id": "f-X6cQ4O3hBA",
        "colab_type": "code",
        "colab": {}
      },
      "source": [
        ""
      ],
      "execution_count": 0,
      "outputs": []
    }
  ]
}